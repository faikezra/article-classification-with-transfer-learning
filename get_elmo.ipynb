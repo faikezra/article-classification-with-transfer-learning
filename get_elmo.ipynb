{
  "nbformat": 4,
  "nbformat_minor": 0,
  "metadata": {
    "colab": {
      "name": "elmo_bert.ipynb",
      "version": "0.3.2",
      "provenance": [],
      "collapsed_sections": []
    },
    "kernelspec": {
      "name": "python3",
      "display_name": "Python 3"
    },
    "accelerator": "GPU"
  },
  "cells": [
    {
      "cell_type": "code",
      "metadata": {
        "id": "5fJueiLM5XSE",
        "colab_type": "code",
        "outputId": "986a2eb8-60b8-4fcf-d9a6-df2465ec61b9",
        "colab": {
          "base_uri": "https://localhost:8080/",
          "height": 599
        }
      },
      "source": [
        "import tensorflow as tf\n",
        "import pandas as pd\n",
        "import tensorflow_hub as hub\n",
        "import os\n",
        "import re\n",
        "from keras import backend as K\n",
        "import keras.layers as layers\n",
        "from keras.models import Model, load_model\n",
        "from keras.engine import Layer\n",
        "import numpy as np\n",
        "import json\n",
        "from sklearn.model_selection import train_test_split\n",
        "from tensorflow.python.client import device_lib\n",
        "\n",
        "print(device_lib.list_local_devices())\n",
        "# Initialize session\n",
        "sess = tf.Session()"
      ],
      "execution_count": 0,
      "outputs": [
        {
          "output_type": "stream",
          "text": [
            "Using TensorFlow backend.\n"
          ],
          "name": "stderr"
        },
        {
          "output_type": "stream",
          "text": [
            "[name: \"/device:CPU:0\"\n",
            "device_type: \"CPU\"\n",
            "memory_limit: 268435456\n",
            "locality {\n",
            "}\n",
            "incarnation: 14255678887039592551\n",
            ", name: \"/device:XLA_CPU:0\"\n",
            "device_type: \"XLA_CPU\"\n",
            "memory_limit: 17179869184\n",
            "locality {\n",
            "}\n",
            "incarnation: 3543633615335135261\n",
            "physical_device_desc: \"device: XLA_CPU device\"\n",
            ", name: \"/device:XLA_GPU:0\"\n",
            "device_type: \"XLA_GPU\"\n",
            "memory_limit: 17179869184\n",
            "locality {\n",
            "}\n",
            "incarnation: 3494147271708632236\n",
            "physical_device_desc: \"device: XLA_GPU device\"\n",
            ", name: \"/device:GPU:0\"\n",
            "device_type: \"GPU\"\n",
            "memory_limit: 14892338381\n",
            "locality {\n",
            "  bus_id: 1\n",
            "  links {\n",
            "  }\n",
            "}\n",
            "incarnation: 5210426998820853595\n",
            "physical_device_desc: \"device: 0, name: Tesla T4, pci bus id: 0000:00:04.0, compute capability: 7.5\"\n",
            "]\n"
          ],
          "name": "stdout"
        }
      ]
    },
    {
      "cell_type": "code",
      "metadata": {
        "id": "0dV3kvPWT47U",
        "colab_type": "code",
        "outputId": "0baadbfd-946e-4a22-fa99-3af7b9f365bd",
        "colab": {
          "base_uri": "https://localhost:8080/",
          "height": 35
        }
      },
      "source": [
        "# Run this cell to mount your Google Drive.\n",
        "from google.colab import drive\n",
        "drive.mount('/content/drive')"
      ],
      "execution_count": 0,
      "outputs": [
        {
          "output_type": "stream",
          "text": [
            "Drive already mounted at /content/drive; to attempt to forcibly remount, call drive.mount(\"/content/drive\", force_remount=True).\n"
          ],
          "name": "stdout"
        }
      ]
    },
    {
      "cell_type": "code",
      "metadata": {
        "id": "nYdc6X0U53MF",
        "colab_type": "code",
        "colab": {}
      },
      "source": [
        "# takes equal amounts of samples from each category\n",
        "# returns train test data set\n",
        "def create_sample(sample_amount):\n",
        "    if sample_amount > 4000:\n",
        "        raise ValueError('cannot sample more then 4000 data points.')\n",
        "    data = pd.read_csv('drive/My Drive/bert_rte/data/wrangled_train.csv', index_col=0)\n",
        "    sampled_text = []\n",
        "    sampled_id = []\n",
        "    sampled_tag = []\n",
        "    for tag in list(data.Tag.unique()):\n",
        "        sampled = data[data['Tag'] == tag].sample(sample_amount, random_state=42)\n",
        "        sampled_text_ = list(sampled['Text'])\n",
        "        sampled_id_ = list(sampled['ID'])\n",
        "        sampled_tag_ = list(sampled['Tag_num'])\n",
        "\n",
        "        for item in sampled_text_:\n",
        "            sampled_text.append(item)\n",
        "        for item in sampled_id_:\n",
        "            sampled_id.append(item)\n",
        "        for item in sampled_tag_:\n",
        "            sampled_tag.append(item)\n",
        "\n",
        "    with open('sampled_data.txt', 'w') as outfile:\n",
        "        for sample_index in range(len(sampled_id)):\n",
        "            json.dump({sampled_id[sample_index]: [sampled_text[sample_index], sampled_tag[sample_index]]}, outfile)\n",
        "            outfile.write('\\n')\n",
        "\n",
        "    with open('sampled_data.txt', 'r') as infile:\n",
        "        data = [json.loads(i) for i in infile if type(list(json.loads(i).values())[0][0]) == str]\n",
        "    X_train, X_test, y_train, y_test = train_test_split([list(i.values())[0][0] for i in data],\n",
        "                                                        [list(i.values())[0][1] for i in data], test_size=0.20,\n",
        "                                                        random_state=42)\n",
        "    \n",
        "    split = len(X_train)\n",
        "    X = X_train + X_test\n",
        "    y = y_train + y_test\n",
        "\n",
        "    y_one_hot = []\n",
        "    for i in y:\n",
        "      temp = np.zeros(23)\n",
        "      temp[i - 1] = 1\n",
        "      y_one_hot.append(temp)\n",
        "\n",
        "    y_one_hot = np.array(y_one_hot)\n",
        "    X_train = X[:split]\n",
        "    X_test = X[split:]\n",
        "    y_train = y_one_hot[:split]\n",
        "    y_test = y_one_hot[split:]\n",
        "    return X_train, X_test, y_train, y_test"
      ],
      "execution_count": 0,
      "outputs": []
    },
    {
      "cell_type": "code",
      "metadata": {
        "id": "i-gmoL6Z6Q5j",
        "colab_type": "code",
        "colab": {}
      },
      "source": [
        "X_train, X_test, y_train, y_test = create_sample(2000)"
      ],
      "execution_count": 0,
      "outputs": []
    },
    {
      "cell_type": "code",
      "metadata": {
        "id": "gx5ARATH5Xmi",
        "colab_type": "code",
        "colab": {}
      },
      "source": [
        "class ElmoEmbeddingLayer(Layer):\n",
        "    def __init__(self, **kwargs):\n",
        "        self.dimensions = 1024\n",
        "        self.trainable=True\n",
        "        super(ElmoEmbeddingLayer, self).__init__(**kwargs)\n",
        "\n",
        "    def build(self, input_shape):\n",
        "        self.elmo = hub.Module('https://tfhub.dev/google/elmo/2', trainable=self.trainable,\n",
        "                               name=\"{}_module\".format(self.name))\n",
        "\n",
        "        self.trainable_weights += K.tf.trainable_variables(scope=\"^{}_module/.*\".format(self.name))\n",
        "        super(ElmoEmbeddingLayer, self).build(input_shape)\n",
        "\n",
        "    def call(self, x, mask=None):\n",
        "        result = self.elmo(K.squeeze(K.cast(x, tf.string), axis=1),\n",
        "                      as_dict=True,\n",
        "                      signature='default',\n",
        "                      )['default']\n",
        "        return result\n",
        "\n",
        "    def compute_mask(self, inputs, mask=None):\n",
        "        return K.not_equal(inputs, '--PAD--')\n",
        "\n",
        "    def compute_output_shape(self, input_shape):\n",
        "        return (input_shape[0], self.dimensions)"
      ],
      "execution_count": 0,
      "outputs": []
    },
    {
      "cell_type": "code",
      "metadata": {
        "id": "k0vQ9fnw5eF1",
        "colab_type": "code",
        "colab": {}
      },
      "source": [
        "\n",
        "# Function to build model\n",
        "def build_model(): \n",
        "  input_text = layers.Input(shape=(1,), dtype=\"string\")\n",
        "  embedding = ElmoEmbeddingLayer()(input_text)\n",
        "  dense = layers.Dense(256, activation='relu')(embedding)\n",
        "  pred = layers.Dense(23, activation='softmax')(dense)\n",
        "\n",
        "  model = Model(inputs=[input_text], outputs=pred)\n",
        "\n",
        "  model.compile(loss='categorical_crossentropy', optimizer='adam', metrics=['accuracy'])\n",
        "  model.summary()\n",
        "  \n",
        "  return model"
      ],
      "execution_count": 0,
      "outputs": []
    },
    {
      "cell_type": "code",
      "metadata": {
        "id": "dLui5QjH5_Vv",
        "colab_type": "code",
        "colab": {}
      },
      "source": [
        "# Create datasets (Only take up to 150 words for memory)\n",
        "train_text = [' '.join(t.split()[0:150]) for t in X_train]\n",
        "train_text = np.array(train_text, dtype=object)[:, np.newaxis]\n",
        "\n",
        "test_text = [' '.join(t.split()[0:150]) for t in X_test]\n",
        "test_text = np.array(test_text, dtype=object)[:, np.newaxis]\n",
        "\n",
        "\n",
        "train_labels = np.array(y_train)\n",
        "test_labels = np.array(y_test)"
      ],
      "execution_count": 0,
      "outputs": []
    },
    {
      "cell_type": "code",
      "metadata": {
        "id": "_W48xfur6Jxs",
        "colab_type": "code",
        "outputId": "5a1e7dea-f1a9-4fd9-da51-0fd6861ca643",
        "colab": {
          "base_uri": "https://localhost:8080/",
          "height": 783
        }
      },
      "source": [
        "# Build and fit\n",
        "model = build_model()\n",
        "model.fit(train_text, \n",
        "          y_train,\n",
        "          validation_data=(test_text, y_test),\n",
        "          epochs=4,\n",
        "          batch_size=32)"
      ],
      "execution_count": 0,
      "outputs": [
        {
          "output_type": "stream",
          "text": [
            "WARNING: Logging before flag parsing goes to stderr.\n",
            "W0705 03:55:57.189936 139922244118400 deprecation_wrapper.py:119] From /usr/local/lib/python3.6/dist-packages/keras/backend/tensorflow_backend.py:74: The name tf.get_default_graph is deprecated. Please use tf.compat.v1.get_default_graph instead.\n",
            "\n",
            "W0705 03:55:57.191655 139922244118400 deprecation_wrapper.py:119] From /usr/local/lib/python3.6/dist-packages/keras/backend/tensorflow_backend.py:517: The name tf.placeholder is deprecated. Please use tf.compat.v1.placeholder instead.\n",
            "\n",
            "W0705 03:55:58.235071 139922244118400 deprecation_wrapper.py:119] From /usr/local/lib/python3.6/dist-packages/keras/backend/tensorflow_backend.py:4138: The name tf.random_uniform is deprecated. Please use tf.random.uniform instead.\n",
            "\n",
            "W0705 03:55:58.261150 139922244118400 deprecation_wrapper.py:119] From /usr/local/lib/python3.6/dist-packages/keras/optimizers.py:790: The name tf.train.Optimizer is deprecated. Please use tf.compat.v1.train.Optimizer instead.\n",
            "\n",
            "W0705 03:55:58.283183 139922244118400 deprecation_wrapper.py:119] From /usr/local/lib/python3.6/dist-packages/keras/backend/tensorflow_backend.py:3295: The name tf.log is deprecated. Please use tf.math.log instead.\n",
            "\n",
            "W0705 03:55:58.398578 139922244118400 deprecation.py:323] From /usr/local/lib/python3.6/dist-packages/tensorflow/python/ops/math_grad.py:1250: add_dispatch_support.<locals>.wrapper (from tensorflow.python.ops.array_ops) is deprecated and will be removed in a future version.\n",
            "Instructions for updating:\n",
            "Use tf.where in 2.0, which has the same broadcast rule as np.where\n"
          ],
          "name": "stderr"
        },
        {
          "output_type": "stream",
          "text": [
            "_________________________________________________________________\n",
            "Layer (type)                 Output Shape              Param #   \n",
            "=================================================================\n",
            "input_1 (InputLayer)         (None, 1)                 0         \n",
            "_________________________________________________________________\n",
            "elmo_embedding_layer_1 (Elmo (None, 1024)              4         \n",
            "_________________________________________________________________\n",
            "dense_1 (Dense)              (None, 256)               262400    \n",
            "_________________________________________________________________\n",
            "dense_2 (Dense)              (None, 23)                5911      \n",
            "=================================================================\n",
            "Total params: 268,315\n",
            "Trainable params: 268,315\n",
            "Non-trainable params: 0\n",
            "_________________________________________________________________\n"
          ],
          "name": "stdout"
        },
        {
          "output_type": "stream",
          "text": [
            "W0705 03:55:58.522406 139922244118400 deprecation_wrapper.py:119] From /usr/local/lib/python3.6/dist-packages/keras/backend/tensorflow_backend.py:986: The name tf.assign_add is deprecated. Please use tf.compat.v1.assign_add instead.\n",
            "\n"
          ],
          "name": "stderr"
        },
        {
          "output_type": "stream",
          "text": [
            "Train on 36780 samples, validate on 9196 samples\n",
            "Epoch 1/4\n",
            "36780/36780 [==============================] - 874s 24ms/step - loss: 1.1149 - acc: 0.6664 - val_loss: 0.9341 - val_acc: 0.7113\n",
            "Epoch 2/4\n",
            "36780/36780 [==============================] - 878s 24ms/step - loss: 0.8831 - acc: 0.7222 - val_loss: 0.8671 - val_acc: 0.7258\n",
            "Epoch 3/4\n",
            "36780/36780 [==============================] - 877s 24ms/step - loss: 0.8161 - acc: 0.7386 - val_loss: 0.8328 - val_acc: 0.7350\n",
            "Epoch 4/4\n",
            "36780/36780 [==============================] - 879s 24ms/step - loss: 0.7775 - acc: 0.7480 - val_loss: 0.8337 - val_acc: 0.7306\n"
          ],
          "name": "stdout"
        },
        {
          "output_type": "execute_result",
          "data": {
            "text/plain": [
              "<keras.callbacks.History at 0x7f4184565438>"
            ]
          },
          "metadata": {
            "tags": []
          },
          "execution_count": 8
        }
      ]
    },
    {
      "cell_type": "code",
      "metadata": {
        "id": "cHVnP_jF_7zW",
        "colab_type": "code",
        "colab": {}
      },
      "source": [
        "predicted = model.predict(test_text)"
      ],
      "execution_count": 0,
      "outputs": []
    },
    {
      "cell_type": "code",
      "metadata": {
        "id": "2hZYriRSLKOR",
        "colab_type": "code",
        "colab": {}
      },
      "source": [
        "np.save('elmo_predictions', predicted)"
      ],
      "execution_count": 0,
      "outputs": []
    }
  ]
}